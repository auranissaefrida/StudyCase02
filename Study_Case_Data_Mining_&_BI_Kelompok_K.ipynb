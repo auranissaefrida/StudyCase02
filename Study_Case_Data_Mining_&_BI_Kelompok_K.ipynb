{
  "nbformat": 4,
  "nbformat_minor": 0,
  "metadata": {
    "colab": {
      "provenance": [],
      "collapsed_sections": [
        "33-BfQ2wHsKt",
        "LoV_rMIQI7VU",
        "ERIgdd-rJ46x",
        "rW-olJs9K0gW",
        "YldZANW1LSnA"
      ]
    },
    "kernelspec": {
      "name": "python3",
      "display_name": "Python 3"
    },
    "language_info": {
      "name": "python"
    }
  },
  "cells": [
    {
      "cell_type": "markdown",
      "source": [
        "##**KELOMPOK K**\n",
        "\n",
        "\n",
        "\n",
        "1.   Maria Angelica Christabel (2006483593)\n",
        "2.   Auranissa Efrida P (2006571192)\n",
        "3.   Ghefira Nur F. (2006483694)\n",
        "4.   Inez Aurellia R (2006571204)\n",
        "5.   Laily Nur Azizah (2006464234)"
      ],
      "metadata": {
        "id": "8V4cAY3YBQgY"
      }
    },
    {
      "cell_type": "markdown",
      "source": [
        "##**JUDUL**"
      ],
      "metadata": {
        "id": "14tAVcJZBt6J"
      }
    },
    {
      "cell_type": "markdown",
      "source": [
        "##**Problem Statement**\n",
        "\n",
        "Di studi kasus pertama, anda mendapat bantuan keterangan dari manajemen. Setelah berdiskusi *over lunch* dengan beberapa manager senior, anda mendengar bahwa mereka ingin mengetahui:\n",
        "\n",
        "1. Kualitas data yang dimiliki perusahaan.\n",
        "2. Apakah ada saran perbaikan data ke DE/DBA perusahaan agar RPPI menjadi *data driven company* yang unggul.\n",
        "3. Dari data yang ada, apakah ada kecenderungan rumah disuatu kota lebih mahal/murah dibandingkan kota lain?\n",
        "4. Dari data yang ada, apakah bisa dibuat rekomendasi sebaiknya RPPI membuat kantor cabang berikutnya di kota mana? Mengapa? (Asumsikan RPPI belum memiliki cabang di kota-kota yang disebutkan di data).\n",
        "5. Rumah dengan karakteristik seperti apa yang paling banyak dijual?\n",
        "6. Jika RPPI ingin melakukan investasi (max) Rp. 25 Milyar minggu besok, apakah dari data anda dapat memberikan rekomendasi rumah mana saja yang akan berpotensi menghasilkan keuntungan bagi perusahaan?\n",
        "7. Dan yang terpenting, informasi berharga apa lagi yang bisa anda dapatkan dari data?\n",
        "\n",
        "\n",
        "\n",
        "\n"
      ],
      "metadata": {
        "id": "FPObAxdZB5jM"
      }
    },
    {
      "cell_type": "markdown",
      "source": [
        "## **Jawaban Soal Nomor 1** ##"
      ],
      "metadata": {
        "id": "rbmQ4hwdXT2S"
      }
    },
    {
      "cell_type": "markdown",
      "source": [
        "Kualitas data yang dimiliki perusahaan\n",
        "\n",
        "Kota Jakarta:\n",
        "1. Dari 26 kolom, hanya 14 kolom yang terisi\n",
        "2. Dari 1024 baris, hanya 121 baris yang terisi\n",
        "3. Semua baris pada masing-masing kolom terisi, kecuali pada kolom \"hadap\" yang memiliki banyak missing value dan terhitung hanya 36 baris yang terisi.\n",
        "\n",
        "Kota Depok:\n",
        "1. Dari 26 kolom, hanya 14 kolom yang terisi\n",
        "2. Dari 998 baris, hanya 117 baris yang terisi\n",
        "3. Banyak kolom yang yang banyak missing value, seperti \"garasi\" dan \"carport\" yang seharusnya diisi engan nilai 0 apabila tidak memiliki garasi\n",
        "4. Pada kolom \"hadap\" yang memiliki banyak missing value dan terhitung hanya 62 baris yang terisi.\n",
        "\n",
        "Kota Bogor: \n",
        "1. Dari 26 kolom, hanya 14 kolom yang terisi\n",
        "2. Dari 1041 baris, hanya 193 baris yang terisi\n",
        "3. Semua baris pada masing-masing kolom terisi, kecuali pada kolom \"hadap\" yang memiliki banyak missing value dan terhitung hanya 19 baris yang terisi.\n",
        "\n",
        "Kota Tangerang:\n",
        "1. Dari 26 kolom, hanya 14 kolom yang terisi\n",
        "2. Dari 128 baris, hanya 124 baris yang terisi\n",
        "3. Semua baris pada masing-masing kolom terisi, kecuali pada kolom \"hadap\" yang memiliki banyak missing value dan terhitung hanya 49 baris yang terisi.\n",
        "\n",
        "Kota Bekasi:\n",
        "1. Dari 26 kolom, hanya 14 kolom yang terisi\n",
        "2. Dari 992 baris, hanya 106 baris yang terisi\n",
        "3. Banyak kolom yang yang banyak missing value, seperti \"garasi\" dan \"carport\" yang seharusnya diisi engan nilai 0 apabila tidak memiliki garasi\n",
        "4. Pada kolom \"hadap\" yang memiliki banyak missing value dan terhitung hanya 47 baris yang terisi."
      ],
      "metadata": {
        "id": "bRz_HBSacSYK"
      }
    },
    {
      "cell_type": "markdown",
      "source": [
        "## **Jawaban Soal Nomor 2** ##"
      ],
      "metadata": {
        "id": "pcdo75uXcAQ6"
      }
    },
    {
      "cell_type": "markdown",
      "source": [
        "2. Apakah ada saran perbaikan data ke DE/DBA perusahaan agar RPPI menjadi data driven company yang unggul.\n",
        "\n",
        "- Data engineer dimohon cek secara berkala entry-entry pada data. Contohnya pada kolom jumlah garasi, entry NaN dapat diartikan rumah tersebut tidak memiliki garasi atau belum mengetahui infonya. Untuk rumah yang tidak memiliki garasi, dimohon agar diisi dengan angka 0 atau nantinya data akan berisi NaN.\n",
        "- Entry kolom dan baris yang kosong sangat banyak. Contohnya pada data Jakarta hanya berisi 122 baris dari total 1024 baris. Semakin banyak data maka hasil analisis yang akan dihasilkan akan semakin baik dan reliable . \n",
        "- Perhatikan kembali apakah terdapat duplikasi pada kolom dataframe. Contohnya terdapat 2 kolom yang memiliki makna yang sama, yaitu kolom garasi dan carpot."
      ],
      "metadata": {
        "id": "dnc7EpZ2cX-a"
      }
    },
    {
      "cell_type": "markdown",
      "source": [
        "## **Jawaban Soal Nomor 3** ##"
      ],
      "metadata": {
        "id": "G0fSyFDMbLVD"
      }
    },
    {
      "cell_type": "markdown",
      "source": [
        "3. Dari data yang ada, apakah ada kecenderungan rumah disuatu kota lebih mahal/murah dibandingkan kota lain?\n",
        "Dari visualisasi yang dihasilkan, terlihat bahwa di kota Jakarta harga rumah cenderung mahal jika dibandingkan dengan kota yang lain. Sedangkan harga rumah yang paling murah terdapat di kota Depok dan Tangerang."
      ],
      "metadata": {
        "id": "vsUhgic9cbrp"
      }
    },
    {
      "cell_type": "markdown",
      "source": [
        "## **Jawaban Soal Nomor 4**"
      ],
      "metadata": {
        "id": "uu_XnLE5ahIi"
      }
    },
    {
      "cell_type": "markdown",
      "source": [
        "4. Dari data yang ada, apakah bisa dibuat rekomendasi sebaiknya RPPI membuat kantor cabang berikutnya di kota mana? Mengapa? (Asumsikan RPPI belum memiliki cabang di kota-kota yang disebutkan di data).\n",
        "Berdasarkan perbandingan harga yang dilakukan di kota Bogor, Depok, Jakarta, Tangerang, dan Bekasi, kami memberi rekomendasi RPPI untuk membuat kantor cabang di Kota Depok dan/atau Tangerang karena mempertimbangkan properti yang terdapat di kota tersebut lebih sedikit serta terdapat kecenderungan harga properti yang lebih rendah dibandingkan ketiga kota lainnya."
      ],
      "metadata": {
        "id": "sFw2osyDacbG"
      }
    },
    {
      "cell_type": "markdown",
      "source": [
        "##**Jawaban Soal Nomor 5**"
      ],
      "metadata": {
        "id": "0By8_3eEapsI"
      }
    },
    {
      "cell_type": "markdown",
      "source": [
        "5. Rumah dengan karakteristik seperti apa yang paling banyak dijual?\n",
        "- Di kota Bogor, rumah yang paling banyak terjual adalah rumah yang tidak memiliki garasi. Harga rumahnya pun dijual dengan harga yang cenderung murah. \n",
        "- Di kota Jakarta, rumah yang paling banyak terjual adalah rumah dengan 1 garasi dan harganya cenderung lebih murah. \n",
        "- Di kota Depok, rumah yang paling banyak terjual adalah rumah dengan 1 garasi dan harganya cenderung lebih murah. \n",
        "- Di kota Bekasi, rumah yang paling banyak terjual adalah rumah yang memiliki 1 garasi. \n",
        "- Di kota Tangerang,rumah yang paling banyak terjual adalah rumah yang memiliki 1 dan 2 garasi."
      ],
      "metadata": {
        "id": "aPDRWMMcamas"
      }
    },
    {
      "cell_type": "markdown",
      "source": [
        "## **Jawaban Soal Nomor 6** ##"
      ],
      "metadata": {
        "id": "p1TdGsRacvzk"
      }
    },
    {
      "cell_type": "markdown",
      "source": [
        "6.Jika RPPI ingin melakukan investasi (max) Rp. 25 Milyar minggu besok, apakah dari data anda dapat memberikan rekomendasi rumah mana saja yang akan berpotensi menghasilkan keuntungan bagi perusahaan?\n",
        "\n",
        "Karena data yang tersedia mengandung banyak missing value, hasil analisis yang didapatkan pun tidak terlalu kuat dan reliable. Apabila akan diambil keputusan untuk menginvestasikan 25 M, maka disarankan untuk membeli rumah di kota Depok ataupun Tangerang yang memiliki harga rumah paling rendah dibandingkan dengan kota yang lainnya dengan harapan harga rumah akan naik beberapa tahun kedepan."
      ],
      "metadata": {
        "id": "I-ntPmkec11O"
      }
    },
    {
      "cell_type": "markdown",
      "source": [
        "## **Jawaban Soal Nomor 7** ##"
      ],
      "metadata": {
        "id": "F2LhrAwsbFBt"
      }
    },
    {
      "cell_type": "markdown",
      "source": [
        "7. Dan yang terpenting, informasi berharga apa lagi yang bisa anda dapatkan dari data?\n",
        "- Berdasarkan hasil visualisasi yang didapatkan, mayoritas rumah yang terjual di Jakarta memiliki jumlah garasi yang bervariasi, bahkan hinga ada rumah yang memiliki 8 garasi. Berdasarkan penelitian yang dilakukan pada tahun 2020, masyarakat Jakarta masih malas menggunakan transportasi umum. Dengan demikian, di kota Jakarta rumah yang akan lebih banyak dicari dan laku adalah rumah yang memiliki garasi.\n",
        "- Berdasarkan hasil visualisasi yang didapatkan, terdapat rumah dengan jumlah garasi yang lebih banyak tetapi harganya lebih murah dibandingkan dengan rumah jumlah garasi yang lebih sedikit, walaupun mungkin saja ada di daerah yang jauh dari perkotaan. Rumah dengan tipe seperti ini bisa ditawarkan kepada orang yang mencari rumah untuk investasi ataupun orang yang menggunakan kendaraan pribadi lebih dari satu. "
      ],
      "metadata": {
        "id": "DOaJUa4-ce2q"
      }
    },
    {
      "cell_type": "markdown",
      "source": [
        "##**Data Cleaning and Pre-Processing**"
      ],
      "metadata": {
        "id": "IiatIYwLCsGl"
      }
    },
    {
      "cell_type": "code",
      "source": [
        "#import module yang dibutuhkan\n",
        "import numpy as np, pandas as pd, seaborn as sns\n",
        "import matplotlib.pyplot as plt\n",
        "import scipy.stats as stats"
      ],
      "metadata": {
        "id": "gtdyuyG_Cz64"
      },
      "execution_count": null,
      "outputs": []
    },
    {
      "cell_type": "code",
      "source": [
        "# Loading Data:\n",
        "import pandas as pd\n",
        "\n",
        "try: # Running Locally, yakinkan \"file_\" berada di folder \"data\"\n",
        "    jkt = pd.read_csv(\"data/jakarta.csv\", low_memory = False, encoding='utf8')\n",
        "    dpk = pd.read_csv(\"data/depok.csv\", low_memory = False, encoding='utf8')\n",
        "    bgr = pd.read_csv(\"data/bogor.csv\", low_memory = False, encoding='utf8')\n",
        "    tgr = pd.read_csv(\"data/tangerang.csv\", low_memory = False, encoding='utf8')\n",
        "    bks = pd.read_csv(\"data/bekasi.csv\", low_memory = False, encoding='utf8')    \n",
        "except: # Running in Google Colab\n",
        "    !mkdir data\n",
        "    !wget -P data/ https://raw.githubusercontent.com/taufiksutanto/ADM-Case-01-EDA/master/data/jakarta.csv\n",
        "    !wget -P data/ https://raw.githubusercontent.com/taufiksutanto/ADM-Case-01-EDA/master/data/depok.csv\n",
        "    !wget -P data/ https://raw.githubusercontent.com/taufiksutanto/ADM-Case-01-EDA/master/data/bogor.csv\n",
        "    !wget -P data/ https://raw.githubusercontent.com/taufiksutanto/ADM-Case-01-EDA/master/data/tangerang.csv\n",
        "    !wget -P data/ https://raw.githubusercontent.com/taufiksutanto/ADM-Case-01-EDA/master/data/bekasi.csv\n",
        "    jkt = pd.read_csv(\"data/jakarta.csv\", low_memory = False, encoding='utf8')\n",
        "    dpk = pd.read_csv(\"data/depok.csv\", low_memory = False, encoding='utf8')\n",
        "    bgr = pd.read_csv(\"data/bogor.csv\", low_memory = False, encoding='utf8')\n",
        "    tgr = pd.read_csv(\"data/tangerang.csv\", low_memory = False, encoding='utf8')\n",
        "    bks = pd.read_csv(\"data/bekasi.csv\", low_memory = False, encoding='utf8')\n",
        "    \n",
        "jkt.shape, dpk.shape, bgr.shape, tgr.shape, bks.shape"
      ],
      "metadata": {
        "colab": {
          "base_uri": "https://localhost:8080/"
        },
        "id": "IBq9SUlGHa85",
        "outputId": "b6dee8da-d740-49a1-b1df-9f8b73f73bc0"
      },
      "execution_count": null,
      "outputs": [
        {
          "output_type": "execute_result",
          "data": {
            "text/plain": [
              "((1024, 26), (998, 26), (999, 26), (128, 26), (992, 26))"
            ]
          },
          "metadata": {},
          "execution_count": 73
        }
      ]
    },
    {
      "cell_type": "markdown",
      "source": [
        "##**Jakarta**\n"
      ],
      "metadata": {
        "id": "33-BfQ2wHsKt"
      }
    },
    {
      "cell_type": "code",
      "source": [
        "jkt.info()"
      ],
      "metadata": {
        "colab": {
          "base_uri": "https://localhost:8080/"
        },
        "id": "bYKhXxUBHzRc",
        "outputId": "602f2f6f-546e-40e3-b621-2b4008dbc5c6"
      },
      "execution_count": null,
      "outputs": [
        {
          "output_type": "stream",
          "name": "stdout",
          "text": [
            "<class 'pandas.core.frame.DataFrame'>\n",
            "RangeIndex: 1024 entries, 0 to 1023\n",
            "Data columns (total 26 columns):\n",
            " #   Column       Non-Null Count  Dtype  \n",
            "---  ------       --------------  -----  \n",
            " 0   created_at   121 non-null    object \n",
            " 1   LT           121 non-null    float64\n",
            " 2   LB           121 non-null    float64\n",
            " 3   KT           121 non-null    float64\n",
            " 4   KM           121 non-null    float64\n",
            " 5   garasi       44 non-null     float64\n",
            " 6   carport      90 non-null     float64\n",
            " 7   lokasi       121 non-null    object \n",
            " 8   sertifikat   119 non-null    object \n",
            " 9   listrik      120 non-null    float64\n",
            " 10  hadap        36 non-null     object \n",
            " 11  harga        121 non-null    float64\n",
            " 12  URL          121 non-null    object \n",
            " 13  deskripsi    112 non-null    object \n",
            " 14  Unnamed: 14  0 non-null      float64\n",
            " 15  Unnamed: 15  0 non-null      float64\n",
            " 16  Unnamed: 16  0 non-null      float64\n",
            " 17  Unnamed: 17  0 non-null      float64\n",
            " 18  Unnamed: 18  0 non-null      float64\n",
            " 19  Unnamed: 19  0 non-null      float64\n",
            " 20  Unnamed: 20  0 non-null      float64\n",
            " 21  Unnamed: 21  0 non-null      float64\n",
            " 22  Unnamed: 22  0 non-null      float64\n",
            " 23  Unnamed: 23  0 non-null      float64\n",
            " 24  Unnamed: 24  0 non-null      float64\n",
            " 25  Unnamed: 25  0 non-null      float64\n",
            "dtypes: float64(20), object(6)\n",
            "memory usage: 208.1+ KB\n"
          ]
        }
      ]
    },
    {
      "cell_type": "code",
      "source": [
        "jkt.isnull().all()"
      ],
      "metadata": {
        "colab": {
          "base_uri": "https://localhost:8080/"
        },
        "id": "IhH_RPi2H2ZZ",
        "outputId": "62adb1e1-65f6-42d3-df78-015245454922"
      },
      "execution_count": null,
      "outputs": [
        {
          "output_type": "execute_result",
          "data": {
            "text/plain": [
              "created_at     False\n",
              "LT             False\n",
              "LB             False\n",
              "KT             False\n",
              "KM             False\n",
              "garasi         False\n",
              "carport        False\n",
              "lokasi         False\n",
              "sertifikat     False\n",
              "listrik        False\n",
              "hadap          False\n",
              "harga          False\n",
              "URL            False\n",
              "deskripsi      False\n",
              "Unnamed: 14     True\n",
              "Unnamed: 15     True\n",
              "Unnamed: 16     True\n",
              "Unnamed: 17     True\n",
              "Unnamed: 18     True\n",
              "Unnamed: 19     True\n",
              "Unnamed: 20     True\n",
              "Unnamed: 21     True\n",
              "Unnamed: 22     True\n",
              "Unnamed: 23     True\n",
              "Unnamed: 24     True\n",
              "Unnamed: 25     True\n",
              "dtype: bool"
            ]
          },
          "metadata": {},
          "execution_count": 75
        }
      ]
    },
    {
      "cell_type": "code",
      "source": [
        "jkt.drop(['Unnamed: 14','Unnamed: 15','Unnamed: 16','Unnamed: 17','Unnamed: 18','Unnamed: 19','Unnamed: 20','Unnamed: 21','Unnamed: 22','Unnamed: 23','Unnamed: 24','Unnamed: 25'], axis=1, inplace=True)"
      ],
      "metadata": {
        "id": "kdBkwQAAIPXT"
      },
      "execution_count": null,
      "outputs": []
    },
    {
      "cell_type": "code",
      "source": [
        "jkt = jkt.drop(jkt.index[121:1024])"
      ],
      "metadata": {
        "id": "DJwL6rJXIg1Q"
      },
      "execution_count": null,
      "outputs": []
    },
    {
      "cell_type": "code",
      "source": [
        "jkt.isna().sum()"
      ],
      "metadata": {
        "id": "H3hFD1pxKYM2",
        "outputId": "ff69e686-589a-484e-fdb9-a148fb339067",
        "colab": {
          "base_uri": "https://localhost:8080/"
        }
      },
      "execution_count": null,
      "outputs": [
        {
          "output_type": "execute_result",
          "data": {
            "text/plain": [
              "created_at     0\n",
              "LT             0\n",
              "LB             0\n",
              "KT             0\n",
              "KM             0\n",
              "garasi        77\n",
              "carport       31\n",
              "lokasi         0\n",
              "sertifikat     2\n",
              "listrik        1\n",
              "hadap         85\n",
              "harga          0\n",
              "URL            0\n",
              "deskripsi      9\n",
              "dtype: int64"
            ]
          },
          "metadata": {},
          "execution_count": 78
        }
      ]
    },
    {
      "cell_type": "code",
      "source": [
        "jkt.shape"
      ],
      "metadata": {
        "id": "XxnPgKxNIj65",
        "outputId": "94e57114-e3f0-4a86-d103-586cc0fd26a4",
        "colab": {
          "base_uri": "https://localhost:8080/"
        }
      },
      "execution_count": null,
      "outputs": [
        {
          "output_type": "execute_result",
          "data": {
            "text/plain": [
              "(121, 14)"
            ]
          },
          "metadata": {},
          "execution_count": 79
        }
      ]
    },
    {
      "cell_type": "markdown",
      "source": [
        "##**Bogor**"
      ],
      "metadata": {
        "id": "LoV_rMIQI7VU"
      }
    },
    {
      "cell_type": "code",
      "source": [
        "bgr.info()"
      ],
      "metadata": {
        "colab": {
          "base_uri": "https://localhost:8080/"
        },
        "id": "dDNFIUlII-4X",
        "outputId": "6c8e8566-99a7-4a7c-989e-47313bc41b9c"
      },
      "execution_count": null,
      "outputs": [
        {
          "output_type": "stream",
          "name": "stdout",
          "text": [
            "<class 'pandas.core.frame.DataFrame'>\n",
            "RangeIndex: 999 entries, 0 to 998\n",
            "Data columns (total 26 columns):\n",
            " #   Column       Non-Null Count  Dtype  \n",
            "---  ------       --------------  -----  \n",
            " 0   created_at   193 non-null    object \n",
            " 1   LT           193 non-null    float64\n",
            " 2   LB           193 non-null    float64\n",
            " 3   KT           193 non-null    float64\n",
            " 4   KM           193 non-null    float64\n",
            " 5   garasi       193 non-null    float64\n",
            " 6   carport      193 non-null    float64\n",
            " 7   lokasi       193 non-null    object \n",
            " 8   sertifikat   193 non-null    object \n",
            " 9   listrik      193 non-null    float64\n",
            " 10  hadap        19 non-null     object \n",
            " 11  harga        193 non-null    float64\n",
            " 12  URL          193 non-null    object \n",
            " 13  deskripsi    193 non-null    object \n",
            " 14  Unnamed: 14  0 non-null      float64\n",
            " 15  Unnamed: 15  0 non-null      float64\n",
            " 16  Unnamed: 16  0 non-null      float64\n",
            " 17  Unnamed: 17  0 non-null      float64\n",
            " 18  Unnamed: 18  0 non-null      float64\n",
            " 19  Unnamed: 19  0 non-null      float64\n",
            " 20  Unnamed: 20  0 non-null      float64\n",
            " 21  Unnamed: 21  0 non-null      float64\n",
            " 22  Unnamed: 22  0 non-null      float64\n",
            " 23  Unnamed: 23  0 non-null      float64\n",
            " 24  Unnamed: 24  0 non-null      float64\n",
            " 25  Unnamed: 25  0 non-null      float64\n",
            "dtypes: float64(20), object(6)\n",
            "memory usage: 203.0+ KB\n"
          ]
        }
      ]
    },
    {
      "cell_type": "code",
      "source": [
        "bgr.isnull().all()"
      ],
      "metadata": {
        "colab": {
          "base_uri": "https://localhost:8080/"
        },
        "id": "dowOW6f3JCgh",
        "outputId": "be76bd7d-7f75-40ba-8a54-77f170be0845"
      },
      "execution_count": null,
      "outputs": [
        {
          "output_type": "execute_result",
          "data": {
            "text/plain": [
              "created_at     False\n",
              "LT             False\n",
              "LB             False\n",
              "KT             False\n",
              "KM             False\n",
              "garasi         False\n",
              "carport        False\n",
              "lokasi         False\n",
              "sertifikat     False\n",
              "listrik        False\n",
              "hadap          False\n",
              "harga          False\n",
              "URL            False\n",
              "deskripsi      False\n",
              "Unnamed: 14     True\n",
              "Unnamed: 15     True\n",
              "Unnamed: 16     True\n",
              "Unnamed: 17     True\n",
              "Unnamed: 18     True\n",
              "Unnamed: 19     True\n",
              "Unnamed: 20     True\n",
              "Unnamed: 21     True\n",
              "Unnamed: 22     True\n",
              "Unnamed: 23     True\n",
              "Unnamed: 24     True\n",
              "Unnamed: 25     True\n",
              "dtype: bool"
            ]
          },
          "metadata": {},
          "execution_count": 81
        }
      ]
    },
    {
      "cell_type": "code",
      "source": [
        "bgr.drop(['Unnamed: 14','Unnamed: 15','Unnamed: 16','Unnamed: 17','Unnamed: 18','Unnamed: 19','Unnamed: 20','Unnamed: 21','Unnamed: 22','Unnamed: 23','Unnamed: 24','Unnamed: 25'], axis=1, inplace=True)"
      ],
      "metadata": {
        "id": "ucRByi69JOB0"
      },
      "execution_count": null,
      "outputs": []
    },
    {
      "cell_type": "code",
      "source": [
        "bgr.isna().sum()"
      ],
      "metadata": {
        "colab": {
          "base_uri": "https://localhost:8080/"
        },
        "id": "6KaxGIYkJSr9",
        "outputId": "a4212ee3-929c-44a0-be2b-ef4713fc6593"
      },
      "execution_count": null,
      "outputs": [
        {
          "output_type": "execute_result",
          "data": {
            "text/plain": [
              "created_at    806\n",
              "LT            806\n",
              "LB            806\n",
              "KT            806\n",
              "KM            806\n",
              "garasi        806\n",
              "carport       806\n",
              "lokasi        806\n",
              "sertifikat    806\n",
              "listrik       806\n",
              "hadap         980\n",
              "harga         806\n",
              "URL           806\n",
              "deskripsi     806\n",
              "dtype: int64"
            ]
          },
          "metadata": {},
          "execution_count": 83
        }
      ]
    },
    {
      "cell_type": "code",
      "source": [
        "bgr = bgr.drop(bgr.index[193:999])\n",
        "bgr.shape"
      ],
      "metadata": {
        "colab": {
          "base_uri": "https://localhost:8080/"
        },
        "id": "bhnuqbStJQVw",
        "outputId": "a4f6e4eb-dee8-4dd8-da9a-d2b970cf2512"
      },
      "execution_count": null,
      "outputs": [
        {
          "output_type": "execute_result",
          "data": {
            "text/plain": [
              "(193, 14)"
            ]
          },
          "metadata": {},
          "execution_count": 84
        }
      ]
    },
    {
      "cell_type": "markdown",
      "source": [
        "# Tangerang"
      ],
      "metadata": {
        "id": "ERIgdd-rJ46x"
      }
    },
    {
      "cell_type": "code",
      "source": [
        "tgr.info()"
      ],
      "metadata": {
        "colab": {
          "base_uri": "https://localhost:8080/"
        },
        "id": "fw1vOTy_J6Ec",
        "outputId": "f4a14080-477c-4a02-93f7-d98832bfb81b"
      },
      "execution_count": null,
      "outputs": [
        {
          "output_type": "stream",
          "name": "stdout",
          "text": [
            "<class 'pandas.core.frame.DataFrame'>\n",
            "RangeIndex: 128 entries, 0 to 127\n",
            "Data columns (total 26 columns):\n",
            " #   Column       Non-Null Count  Dtype  \n",
            "---  ------       --------------  -----  \n",
            " 0   created_at   124 non-null    object \n",
            " 1   LT           124 non-null    float64\n",
            " 2   LB           124 non-null    float64\n",
            " 3   KT           124 non-null    float64\n",
            " 4   KM           124 non-null    float64\n",
            " 5   garasi       38 non-null     float64\n",
            " 6   carport      92 non-null     float64\n",
            " 7   lokasi       124 non-null    object \n",
            " 8   sertifikat   122 non-null    object \n",
            " 9   listrik      111 non-null    float64\n",
            " 10  hadap        49 non-null     object \n",
            " 11  harga        124 non-null    float64\n",
            " 12  URL          124 non-null    object \n",
            " 13  deskripsi    124 non-null    object \n",
            " 14  Unnamed: 14  0 non-null      float64\n",
            " 15  Unnamed: 15  0 non-null      float64\n",
            " 16  Unnamed: 16  0 non-null      float64\n",
            " 17  Unnamed: 17  0 non-null      float64\n",
            " 18  Unnamed: 18  0 non-null      float64\n",
            " 19  Unnamed: 19  0 non-null      float64\n",
            " 20  Unnamed: 20  0 non-null      float64\n",
            " 21  Unnamed: 21  0 non-null      float64\n",
            " 22  Unnamed: 22  0 non-null      float64\n",
            " 23  Unnamed: 23  0 non-null      float64\n",
            " 24  Unnamed: 24  0 non-null      float64\n",
            " 25  Unnamed: 25  0 non-null      float64\n",
            "dtypes: float64(20), object(6)\n",
            "memory usage: 26.1+ KB\n"
          ]
        }
      ]
    },
    {
      "cell_type": "code",
      "source": [
        "tgr.isnull().all()"
      ],
      "metadata": {
        "colab": {
          "base_uri": "https://localhost:8080/"
        },
        "id": "Rn2A7D7vJ9ED",
        "outputId": "c677770f-dfba-44fa-d79e-1cb3a6a92989"
      },
      "execution_count": null,
      "outputs": [
        {
          "output_type": "execute_result",
          "data": {
            "text/plain": [
              "created_at     False\n",
              "LT             False\n",
              "LB             False\n",
              "KT             False\n",
              "KM             False\n",
              "garasi         False\n",
              "carport        False\n",
              "lokasi         False\n",
              "sertifikat     False\n",
              "listrik        False\n",
              "hadap          False\n",
              "harga          False\n",
              "URL            False\n",
              "deskripsi      False\n",
              "Unnamed: 14     True\n",
              "Unnamed: 15     True\n",
              "Unnamed: 16     True\n",
              "Unnamed: 17     True\n",
              "Unnamed: 18     True\n",
              "Unnamed: 19     True\n",
              "Unnamed: 20     True\n",
              "Unnamed: 21     True\n",
              "Unnamed: 22     True\n",
              "Unnamed: 23     True\n",
              "Unnamed: 24     True\n",
              "Unnamed: 25     True\n",
              "dtype: bool"
            ]
          },
          "metadata": {},
          "execution_count": 86
        }
      ]
    },
    {
      "cell_type": "code",
      "source": [
        "tgr.drop(['Unnamed: 14','Unnamed: 15','Unnamed: 16','Unnamed: 17','Unnamed: 18','Unnamed: 19','Unnamed: 20','Unnamed: 21','Unnamed: 22','Unnamed: 23','Unnamed: 24','Unnamed: 25'], axis=1, inplace=True)"
      ],
      "metadata": {
        "id": "szOGJSbwKJ8d"
      },
      "execution_count": null,
      "outputs": []
    },
    {
      "cell_type": "code",
      "source": [
        "tgr.isna().sum()"
      ],
      "metadata": {
        "id": "sd56_crRKOfU",
        "colab": {
          "base_uri": "https://localhost:8080/"
        },
        "outputId": "d204dcb6-a9d9-4896-8989-b9f22791b240"
      },
      "execution_count": null,
      "outputs": [
        {
          "output_type": "execute_result",
          "data": {
            "text/plain": [
              "created_at     4\n",
              "LT             4\n",
              "LB             4\n",
              "KT             4\n",
              "KM             4\n",
              "garasi        90\n",
              "carport       36\n",
              "lokasi         4\n",
              "sertifikat     6\n",
              "listrik       17\n",
              "hadap         79\n",
              "harga          4\n",
              "URL            4\n",
              "deskripsi      4\n",
              "dtype: int64"
            ]
          },
          "metadata": {},
          "execution_count": 88
        }
      ]
    },
    {
      "cell_type": "code",
      "source": [
        "tgr = tgr.drop(tgr.index[124:128])\n",
        "tgr.shape"
      ],
      "metadata": {
        "colab": {
          "base_uri": "https://localhost:8080/"
        },
        "id": "K8l94hq-KpZf",
        "outputId": "24ad4f13-69f8-4aa3-a35f-4f9501dbfe2a"
      },
      "execution_count": null,
      "outputs": [
        {
          "output_type": "execute_result",
          "data": {
            "text/plain": [
              "(124, 14)"
            ]
          },
          "metadata": {},
          "execution_count": 89
        }
      ]
    },
    {
      "cell_type": "markdown",
      "source": [
        "# Depok"
      ],
      "metadata": {
        "id": "rW-olJs9K0gW"
      }
    },
    {
      "cell_type": "code",
      "source": [
        "dpk.info()"
      ],
      "metadata": {
        "colab": {
          "base_uri": "https://localhost:8080/"
        },
        "id": "mYwlkFOvK1a8",
        "outputId": "22b34e2e-1039-4510-d575-2dd3ce7d1d09"
      },
      "execution_count": null,
      "outputs": [
        {
          "output_type": "stream",
          "name": "stdout",
          "text": [
            "<class 'pandas.core.frame.DataFrame'>\n",
            "RangeIndex: 998 entries, 0 to 997\n",
            "Data columns (total 26 columns):\n",
            " #   Column       Non-Null Count  Dtype  \n",
            "---  ------       --------------  -----  \n",
            " 0   created_at   119 non-null    object \n",
            " 1   LT           120 non-null    object \n",
            " 2   LB           118 non-null    float64\n",
            " 3   KT           118 non-null    float64\n",
            " 4   KM           118 non-null    float64\n",
            " 5   garasi       25 non-null     float64\n",
            " 6   carport      94 non-null     float64\n",
            " 7   lokasi       118 non-null    object \n",
            " 8   sertifikat   118 non-null    object \n",
            " 9   listrik      103 non-null    float64\n",
            " 10  hadap        62 non-null     object \n",
            " 11  harga        118 non-null    float64\n",
            " 12  URL          118 non-null    object \n",
            " 13  deskripsi    118 non-null    object \n",
            " 14  Unnamed: 14  0 non-null      float64\n",
            " 15  Unnamed: 15  0 non-null      float64\n",
            " 16  Unnamed: 16  0 non-null      float64\n",
            " 17  Unnamed: 17  0 non-null      float64\n",
            " 18  Unnamed: 18  0 non-null      float64\n",
            " 19  Unnamed: 19  0 non-null      float64\n",
            " 20  Unnamed: 20  0 non-null      float64\n",
            " 21  Unnamed: 21  0 non-null      float64\n",
            " 22  Unnamed: 22  0 non-null      float64\n",
            " 23  Unnamed: 23  0 non-null      float64\n",
            " 24  Unnamed: 24  0 non-null      float64\n",
            " 25  Unnamed: 25  0 non-null      float64\n",
            "dtypes: float64(19), object(7)\n",
            "memory usage: 202.8+ KB\n"
          ]
        }
      ]
    },
    {
      "cell_type": "code",
      "source": [
        "dpk.isnull().all()"
      ],
      "metadata": {
        "colab": {
          "base_uri": "https://localhost:8080/"
        },
        "id": "k9CmDlnOK5YD",
        "outputId": "e8ea297c-92d9-4b1c-f530-1f134a4628a6"
      },
      "execution_count": null,
      "outputs": [
        {
          "output_type": "execute_result",
          "data": {
            "text/plain": [
              "created_at     False\n",
              "LT             False\n",
              "LB             False\n",
              "KT             False\n",
              "KM             False\n",
              "garasi         False\n",
              "carport        False\n",
              "lokasi         False\n",
              "sertifikat     False\n",
              "listrik        False\n",
              "hadap          False\n",
              "harga          False\n",
              "URL            False\n",
              "deskripsi      False\n",
              "Unnamed: 14     True\n",
              "Unnamed: 15     True\n",
              "Unnamed: 16     True\n",
              "Unnamed: 17     True\n",
              "Unnamed: 18     True\n",
              "Unnamed: 19     True\n",
              "Unnamed: 20     True\n",
              "Unnamed: 21     True\n",
              "Unnamed: 22     True\n",
              "Unnamed: 23     True\n",
              "Unnamed: 24     True\n",
              "Unnamed: 25     True\n",
              "dtype: bool"
            ]
          },
          "metadata": {},
          "execution_count": 91
        }
      ]
    },
    {
      "cell_type": "code",
      "source": [
        "dpk.drop(['Unnamed: 14','Unnamed: 15','Unnamed: 16','Unnamed: 17','Unnamed: 18','Unnamed: 19','Unnamed: 20','Unnamed: 21','Unnamed: 22','Unnamed: 23','Unnamed: 24','Unnamed: 25'], axis=1, inplace=True)"
      ],
      "metadata": {
        "id": "-TIZJXeoK8Ut"
      },
      "execution_count": null,
      "outputs": []
    },
    {
      "cell_type": "code",
      "source": [
        "dpk.isna().sum()"
      ],
      "metadata": {
        "colab": {
          "base_uri": "https://localhost:8080/"
        },
        "id": "z0UU7KPaK_gz",
        "outputId": "efd4c9af-de87-4829-a7d2-aa1d4f7b5e2a"
      },
      "execution_count": null,
      "outputs": [
        {
          "output_type": "execute_result",
          "data": {
            "text/plain": [
              "created_at    879\n",
              "LT            878\n",
              "LB            880\n",
              "KT            880\n",
              "KM            880\n",
              "garasi        973\n",
              "carport       904\n",
              "lokasi        880\n",
              "sertifikat    880\n",
              "listrik       895\n",
              "hadap         936\n",
              "harga         880\n",
              "URL           880\n",
              "deskripsi     880\n",
              "dtype: int64"
            ]
          },
          "metadata": {},
          "execution_count": 93
        }
      ]
    },
    {
      "cell_type": "code",
      "source": [
        "dpk = dpk.drop(dpk.index[118:997])\n",
        "dpk.shape"
      ],
      "metadata": {
        "colab": {
          "base_uri": "https://localhost:8080/"
        },
        "id": "oWpijDbSLEAy",
        "outputId": "afcbb476-e77d-417d-e4f3-1dbc25c0d863"
      },
      "execution_count": null,
      "outputs": [
        {
          "output_type": "execute_result",
          "data": {
            "text/plain": [
              "(119, 14)"
            ]
          },
          "metadata": {},
          "execution_count": 94
        }
      ]
    },
    {
      "cell_type": "markdown",
      "source": [
        "# Bekasi"
      ],
      "metadata": {
        "id": "YldZANW1LSnA"
      }
    },
    {
      "cell_type": "code",
      "source": [
        "bks.info()"
      ],
      "metadata": {
        "colab": {
          "base_uri": "https://localhost:8080/"
        },
        "id": "anu5U8kvLTY_",
        "outputId": "9568b9f4-2ff8-43bb-da08-29408be978fe"
      },
      "execution_count": null,
      "outputs": [
        {
          "output_type": "stream",
          "name": "stdout",
          "text": [
            "<class 'pandas.core.frame.DataFrame'>\n",
            "RangeIndex: 992 entries, 0 to 991\n",
            "Data columns (total 26 columns):\n",
            " #   Column       Non-Null Count  Dtype  \n",
            "---  ------       --------------  -----  \n",
            " 0   created_at   107 non-null    object \n",
            " 1   LT           107 non-null    float64\n",
            " 2   LB           107 non-null    float64\n",
            " 3   KT           107 non-null    float64\n",
            " 4   KM           106 non-null    float64\n",
            " 5   garasi       33 non-null     float64\n",
            " 6   carport      81 non-null     float64\n",
            " 7   lokasi       107 non-null    object \n",
            " 8   sertifikat   106 non-null    object \n",
            " 9   listrik      101 non-null    float64\n",
            " 10  hadap        48 non-null     object \n",
            " 11  harga        107 non-null    float64\n",
            " 12  URL          107 non-null    object \n",
            " 13  deskripsi    107 non-null    object \n",
            " 14  Unnamed: 14  0 non-null      float64\n",
            " 15  Unnamed: 15  0 non-null      float64\n",
            " 16  Unnamed: 16  0 non-null      float64\n",
            " 17  Unnamed: 17  0 non-null      float64\n",
            " 18  Unnamed: 18  0 non-null      float64\n",
            " 19  Unnamed: 19  0 non-null      float64\n",
            " 20  Unnamed: 20  0 non-null      float64\n",
            " 21  Unnamed: 21  0 non-null      float64\n",
            " 22  Unnamed: 22  0 non-null      float64\n",
            " 23  Unnamed: 23  0 non-null      float64\n",
            " 24  Unnamed: 24  0 non-null      float64\n",
            " 25  Unnamed: 25  0 non-null      float64\n",
            "dtypes: float64(20), object(6)\n",
            "memory usage: 201.6+ KB\n"
          ]
        }
      ]
    },
    {
      "cell_type": "code",
      "source": [
        "bks.isnull().all()"
      ],
      "metadata": {
        "colab": {
          "base_uri": "https://localhost:8080/"
        },
        "id": "sSbZmqLkLVNq",
        "outputId": "24e7dc79-292c-4c9e-b99d-108b6d89cf5b"
      },
      "execution_count": null,
      "outputs": [
        {
          "output_type": "execute_result",
          "data": {
            "text/plain": [
              "created_at     False\n",
              "LT             False\n",
              "LB             False\n",
              "KT             False\n",
              "KM             False\n",
              "garasi         False\n",
              "carport        False\n",
              "lokasi         False\n",
              "sertifikat     False\n",
              "listrik        False\n",
              "hadap          False\n",
              "harga          False\n",
              "URL            False\n",
              "deskripsi      False\n",
              "Unnamed: 14     True\n",
              "Unnamed: 15     True\n",
              "Unnamed: 16     True\n",
              "Unnamed: 17     True\n",
              "Unnamed: 18     True\n",
              "Unnamed: 19     True\n",
              "Unnamed: 20     True\n",
              "Unnamed: 21     True\n",
              "Unnamed: 22     True\n",
              "Unnamed: 23     True\n",
              "Unnamed: 24     True\n",
              "Unnamed: 25     True\n",
              "dtype: bool"
            ]
          },
          "metadata": {},
          "execution_count": 96
        }
      ]
    },
    {
      "cell_type": "code",
      "source": [
        "bks.drop(['Unnamed: 14','Unnamed: 15','Unnamed: 16','Unnamed: 17','Unnamed: 18','Unnamed: 19','Unnamed: 20','Unnamed: 21','Unnamed: 22','Unnamed: 23','Unnamed: 24','Unnamed: 25'], axis=1, inplace=True)"
      ],
      "metadata": {
        "id": "Idz5jFMFLYxq"
      },
      "execution_count": null,
      "outputs": []
    },
    {
      "cell_type": "code",
      "source": [
        "bks.isna().sum()"
      ],
      "metadata": {
        "colab": {
          "base_uri": "https://localhost:8080/"
        },
        "id": "ISbVf_nsLcDT",
        "outputId": "8e8dbb98-f600-4f02-b405-b5380b8ca2e2"
      },
      "execution_count": null,
      "outputs": [
        {
          "output_type": "execute_result",
          "data": {
            "text/plain": [
              "created_at    885\n",
              "LT            885\n",
              "LB            885\n",
              "KT            885\n",
              "KM            886\n",
              "garasi        959\n",
              "carport       911\n",
              "lokasi        885\n",
              "sertifikat    886\n",
              "listrik       891\n",
              "hadap         944\n",
              "harga         885\n",
              "URL           885\n",
              "deskripsi     885\n",
              "dtype: int64"
            ]
          },
          "metadata": {},
          "execution_count": 98
        }
      ]
    },
    {
      "cell_type": "code",
      "source": [
        "bks = bks.drop(bks.index[107:992])\n",
        "bks.shape"
      ],
      "metadata": {
        "colab": {
          "base_uri": "https://localhost:8080/"
        },
        "id": "_WVqq7u9LkBq",
        "outputId": "dff95668-35f2-48d7-9c83-16535703073d"
      },
      "execution_count": null,
      "outputs": [
        {
          "output_type": "execute_result",
          "data": {
            "text/plain": [
              "(107, 14)"
            ]
          },
          "metadata": {},
          "execution_count": 99
        }
      ]
    },
    {
      "cell_type": "markdown",
      "source": [
        "# Perbandingan Harga"
      ],
      "metadata": {
        "id": "Jehx2s2mMKqh"
      }
    },
    {
      "cell_type": "code",
      "source": [
        "jkt.insert(14, column=\"Kota\", value=\"Jakarta\")\n",
        "bgr.insert(14, column=\"Kota\", value=\"Bogor\")\n",
        "dpk.insert(14, column=\"Kota\", value=\"Depok\")\n",
        "tgr.insert(14, column=\"Kota\", value=\"Tangerang\")\n",
        "bks.insert(14, column=\"Kota\", value=\"Bekasi\")"
      ],
      "metadata": {
        "id": "VuFhoc9IMnaz"
      },
      "execution_count": null,
      "outputs": []
    },
    {
      "cell_type": "code",
      "source": [
        "bgr2 = bgr[['Kota','harga']]\n",
        "dpk2 = dpk[['Kota','harga']]\n",
        "jkt2 = jkt[['Kota','harga']]\n",
        "tgr2 = tgr[['Kota','harga']]\n",
        "bks2 = bks[['Kota','harga']]\n",
        "\n"
      ],
      "metadata": {
        "id": "NmLpMuXJUC4d"
      },
      "execution_count": null,
      "outputs": []
    },
    {
      "cell_type": "code",
      "source": [
        "df=bgr2.append(dpk2)\n",
        "df2=df.append(jkt2)\n",
        "df3=df2.append(tgr2)\n",
        "df4=df3.append(bks2)\n",
        "df4"
      ],
      "metadata": {
        "colab": {
          "base_uri": "https://localhost:8080/",
          "height": 424
        },
        "id": "jiGEIt3ZUlVw",
        "outputId": "1cbf1e0d-0091-48a7-c560-355d322cdb7d"
      },
      "execution_count": null,
      "outputs": [
        {
          "output_type": "execute_result",
          "data": {
            "text/plain": [
              "       Kota         harga\n",
              "0     Bogor  6.925500e+08\n",
              "1     Bogor  8.114000e+08\n",
              "2     Bogor  9.005000e+08\n",
              "3     Bogor  1.001900e+09\n",
              "4     Bogor  1.200800e+09\n",
              "..      ...           ...\n",
              "102  Bekasi  1.600000e+09\n",
              "103  Bekasi  8.500000e+08\n",
              "104  Bekasi  2.500000e+08\n",
              "105  Bekasi  3.000000e+08\n",
              "106  Bekasi  2.500000e+08\n",
              "\n",
              "[664 rows x 2 columns]"
            ],
            "text/html": [
              "\n",
              "  <div id=\"df-cbfbe3be-7ff3-4aa5-8def-42e16282c782\">\n",
              "    <div class=\"colab-df-container\">\n",
              "      <div>\n",
              "<style scoped>\n",
              "    .dataframe tbody tr th:only-of-type {\n",
              "        vertical-align: middle;\n",
              "    }\n",
              "\n",
              "    .dataframe tbody tr th {\n",
              "        vertical-align: top;\n",
              "    }\n",
              "\n",
              "    .dataframe thead th {\n",
              "        text-align: right;\n",
              "    }\n",
              "</style>\n",
              "<table border=\"1\" class=\"dataframe\">\n",
              "  <thead>\n",
              "    <tr style=\"text-align: right;\">\n",
              "      <th></th>\n",
              "      <th>Kota</th>\n",
              "      <th>harga</th>\n",
              "    </tr>\n",
              "  </thead>\n",
              "  <tbody>\n",
              "    <tr>\n",
              "      <th>0</th>\n",
              "      <td>Bogor</td>\n",
              "      <td>6.925500e+08</td>\n",
              "    </tr>\n",
              "    <tr>\n",
              "      <th>1</th>\n",
              "      <td>Bogor</td>\n",
              "      <td>8.114000e+08</td>\n",
              "    </tr>\n",
              "    <tr>\n",
              "      <th>2</th>\n",
              "      <td>Bogor</td>\n",
              "      <td>9.005000e+08</td>\n",
              "    </tr>\n",
              "    <tr>\n",
              "      <th>3</th>\n",
              "      <td>Bogor</td>\n",
              "      <td>1.001900e+09</td>\n",
              "    </tr>\n",
              "    <tr>\n",
              "      <th>4</th>\n",
              "      <td>Bogor</td>\n",
              "      <td>1.200800e+09</td>\n",
              "    </tr>\n",
              "    <tr>\n",
              "      <th>...</th>\n",
              "      <td>...</td>\n",
              "      <td>...</td>\n",
              "    </tr>\n",
              "    <tr>\n",
              "      <th>102</th>\n",
              "      <td>Bekasi</td>\n",
              "      <td>1.600000e+09</td>\n",
              "    </tr>\n",
              "    <tr>\n",
              "      <th>103</th>\n",
              "      <td>Bekasi</td>\n",
              "      <td>8.500000e+08</td>\n",
              "    </tr>\n",
              "    <tr>\n",
              "      <th>104</th>\n",
              "      <td>Bekasi</td>\n",
              "      <td>2.500000e+08</td>\n",
              "    </tr>\n",
              "    <tr>\n",
              "      <th>105</th>\n",
              "      <td>Bekasi</td>\n",
              "      <td>3.000000e+08</td>\n",
              "    </tr>\n",
              "    <tr>\n",
              "      <th>106</th>\n",
              "      <td>Bekasi</td>\n",
              "      <td>2.500000e+08</td>\n",
              "    </tr>\n",
              "  </tbody>\n",
              "</table>\n",
              "<p>664 rows × 2 columns</p>\n",
              "</div>\n",
              "      <button class=\"colab-df-convert\" onclick=\"convertToInteractive('df-cbfbe3be-7ff3-4aa5-8def-42e16282c782')\"\n",
              "              title=\"Convert this dataframe to an interactive table.\"\n",
              "              style=\"display:none;\">\n",
              "        \n",
              "  <svg xmlns=\"http://www.w3.org/2000/svg\" height=\"24px\"viewBox=\"0 0 24 24\"\n",
              "       width=\"24px\">\n",
              "    <path d=\"M0 0h24v24H0V0z\" fill=\"none\"/>\n",
              "    <path d=\"M18.56 5.44l.94 2.06.94-2.06 2.06-.94-2.06-.94-.94-2.06-.94 2.06-2.06.94zm-11 1L8.5 8.5l.94-2.06 2.06-.94-2.06-.94L8.5 2.5l-.94 2.06-2.06.94zm10 10l.94 2.06.94-2.06 2.06-.94-2.06-.94-.94-2.06-.94 2.06-2.06.94z\"/><path d=\"M17.41 7.96l-1.37-1.37c-.4-.4-.92-.59-1.43-.59-.52 0-1.04.2-1.43.59L10.3 9.45l-7.72 7.72c-.78.78-.78 2.05 0 2.83L4 21.41c.39.39.9.59 1.41.59.51 0 1.02-.2 1.41-.59l7.78-7.78 2.81-2.81c.8-.78.8-2.07 0-2.86zM5.41 20L4 18.59l7.72-7.72 1.47 1.35L5.41 20z\"/>\n",
              "  </svg>\n",
              "      </button>\n",
              "      \n",
              "  <style>\n",
              "    .colab-df-container {\n",
              "      display:flex;\n",
              "      flex-wrap:wrap;\n",
              "      gap: 12px;\n",
              "    }\n",
              "\n",
              "    .colab-df-convert {\n",
              "      background-color: #E8F0FE;\n",
              "      border: none;\n",
              "      border-radius: 50%;\n",
              "      cursor: pointer;\n",
              "      display: none;\n",
              "      fill: #1967D2;\n",
              "      height: 32px;\n",
              "      padding: 0 0 0 0;\n",
              "      width: 32px;\n",
              "    }\n",
              "\n",
              "    .colab-df-convert:hover {\n",
              "      background-color: #E2EBFA;\n",
              "      box-shadow: 0px 1px 2px rgba(60, 64, 67, 0.3), 0px 1px 3px 1px rgba(60, 64, 67, 0.15);\n",
              "      fill: #174EA6;\n",
              "    }\n",
              "\n",
              "    [theme=dark] .colab-df-convert {\n",
              "      background-color: #3B4455;\n",
              "      fill: #D2E3FC;\n",
              "    }\n",
              "\n",
              "    [theme=dark] .colab-df-convert:hover {\n",
              "      background-color: #434B5C;\n",
              "      box-shadow: 0px 1px 3px 1px rgba(0, 0, 0, 0.15);\n",
              "      filter: drop-shadow(0px 1px 2px rgba(0, 0, 0, 0.3));\n",
              "      fill: #FFFFFF;\n",
              "    }\n",
              "  </style>\n",
              "\n",
              "      <script>\n",
              "        const buttonEl =\n",
              "          document.querySelector('#df-cbfbe3be-7ff3-4aa5-8def-42e16282c782 button.colab-df-convert');\n",
              "        buttonEl.style.display =\n",
              "          google.colab.kernel.accessAllowed ? 'block' : 'none';\n",
              "\n",
              "        async function convertToInteractive(key) {\n",
              "          const element = document.querySelector('#df-cbfbe3be-7ff3-4aa5-8def-42e16282c782');\n",
              "          const dataTable =\n",
              "            await google.colab.kernel.invokeFunction('convertToInteractive',\n",
              "                                                     [key], {});\n",
              "          if (!dataTable) return;\n",
              "\n",
              "          const docLinkHtml = 'Like what you see? Visit the ' +\n",
              "            '<a target=\"_blank\" href=https://colab.research.google.com/notebooks/data_table.ipynb>data table notebook</a>'\n",
              "            + ' to learn more about interactive tables.';\n",
              "          element.innerHTML = '';\n",
              "          dataTable['output_type'] = 'display_data';\n",
              "          await google.colab.output.renderOutput(dataTable, element);\n",
              "          const docLink = document.createElement('div');\n",
              "          docLink.innerHTML = docLinkHtml;\n",
              "          element.appendChild(docLink);\n",
              "        }\n",
              "      </script>\n",
              "    </div>\n",
              "  </div>\n",
              "  "
            ]
          },
          "metadata": {},
          "execution_count": 105
        }
      ]
    },
    {
      "cell_type": "code",
      "source": [
        "p= sns.catplot(x=\"Kota\", y=\"harga\", data=df4)"
      ],
      "metadata": {
        "colab": {
          "base_uri": "https://localhost:8080/",
          "height": 369
        },
        "id": "IPP4u35UU6tD",
        "outputId": "7c51a144-a632-49f5-90e9-05a78af7d4d6"
      },
      "execution_count": null,
      "outputs": [
        {
          "output_type": "display_data",
          "data": {
            "text/plain": [
              "<Figure size 360x360 with 1 Axes>"
            ],
            "image/png": "[encoded data removed]"
          },
          "metadata": {
            "needs_background": "light"
          }
        }
      ]
    },
    {
      "cell_type": "markdown",
      "source": [
        "##**Explaratory Data Analysis**"
      ],
      "metadata": {
        "id": "PQODn9KlDC0x"
      }
    },
    {
      "cell_type": "code",
      "source": [
        "p= sns.catplot(x=\"garasi\", y=\"harga\", data=bgr)"
      ],
      "metadata": {
        "colab": {
          "base_uri": "https://localhost:8080/",
          "height": 369
        },
        "id": "K5UA6wwqV02O",
        "outputId": "7972c425-74f9-43ac-edb9-7ed8e62acb2a"
      },
      "execution_count": null,
      "outputs": [
        {
          "output_type": "display_data",
          "data": {
            "text/plain": [
              "<Figure size 360x360 with 1 Axes>"
            ],
            "image/png": "[encoded data removed]"
          },
          "metadata": {
            "needs_background": "light"
          }
        }
      ]
    },
    {
      "cell_type": "code",
      "source": [
        "p= sns.catplot(x=\"garasi\", y=\"harga\", data=jkt)"
      ],
      "metadata": {
        "colab": {
          "base_uri": "https://localhost:8080/",
          "height": 369
        },
        "id": "W9Bf8sh6YMbP",
        "outputId": "d04d5951-2eb3-4fb1-d338-98eb052d6d20"
      },
      "execution_count": null,
      "outputs": [
        {
          "output_type": "display_data",
          "data": {
            "text/plain": [
              "<Figure size 360x360 with 1 Axes>"
            ],
            "image/png": "[encoded data removed]"
          },
          "metadata": {
            "needs_background": "light"
          }
        }
      ]
    },
    {
      "cell_type": "code",
      "source": [
        "p= sns.catplot(x=\"garasi\", y=\"harga\", data=bks)"
      ],
      "metadata": {
        "colab": {
          "base_uri": "https://localhost:8080/",
          "height": 369
        },
        "id": "8s93jNPMYSV0",
        "outputId": "86f1f9ac-498f-4746-9cd2-cae11dd86ba8"
      },
      "execution_count": null,
      "outputs": [
        {
          "output_type": "display_data",
          "data": {
            "text/plain": [
              "<Figure size 360x360 with 1 Axes>"
            ],
            "image/png": "[encoded data removed]"
          },
          "metadata": {
            "needs_background": "light"
          }
        }
      ]
    },
    {
      "cell_type": "code",
      "source": [
        "p= sns.catplot(x=\"garasi\", y=\"harga\", data=dpk)"
      ],
      "metadata": {
        "colab": {
          "base_uri": "https://localhost:8080/",
          "height": 369
        },
        "id": "4G83UwVfYbT4",
        "outputId": "2f7eb52d-95e6-498e-b7ea-eca591dfbcb1"
      },
      "execution_count": null,
      "outputs": [
        {
          "output_type": "display_data",
          "data": {
            "text/plain": [
              "<Figure size 360x360 with 1 Axes>"
            ],
            "image/png": "[encoded data removed]"
          },
          "metadata": {
            "needs_background": "light"
          }
        }
      ]
    },
    {
      "cell_type": "code",
      "source": [
        "p= sns.catplot(x=\"garasi\", y=\"harga\", data=tgr)"
      ],
      "metadata": {
        "id": "i32JCilpaFLY"
      },
      "execution_count": null,
      "outputs": []
    },
    {
      "cell_type": "markdown",
      "source": [
        "##**Conclussion**\n",
        "\n",
        "\n",
        "1.   List item\n",
        "2.   List item\n",
        "\n",
        "\n",
        "##**Recommendation**\n",
        "\n",
        "\n",
        "1.   List item\n",
        "2.   List item\n",
        "\n",
        "\n",
        "\n"
      ],
      "metadata": {
        "id": "9OPoZ8VCDWdU"
      }
    }
  ]
}